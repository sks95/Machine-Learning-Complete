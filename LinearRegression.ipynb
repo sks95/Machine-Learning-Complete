{
  "nbformat": 4,
  "nbformat_minor": 0,
  "metadata": {
    "colab": {
      "name": "LinearRegression.ipynb",
      "provenance": [],
      "collapsed_sections": [],
      "authorship_tag": "ABX9TyMd3dZY9ZM/tXriODoPQnHs",
      "include_colab_link": true
    },
    "kernelspec": {
      "name": "python3",
      "display_name": "Python 3"
    },
    "language_info": {
      "name": "python"
    }
  },
  "cells": [
    {
      "cell_type": "markdown",
      "metadata": {
        "id": "view-in-github",
        "colab_type": "text"
      },
      "source": [
        "<a href=\"https://colab.research.google.com/github/sks95/Machine-Learning-Complete/blob/main/LinearRegression.ipynb\" target=\"_parent\"><img src=\"https://colab.research.google.com/assets/colab-badge.svg\" alt=\"Open In Colab\"/></a>"
      ]
    },
    {
      "cell_type": "markdown",
      "source": [
        "# Linear Regression"
      ],
      "metadata": {
        "id": "n_5SeBsQMVGR"
      }
    },
    {
      "cell_type": "code",
      "execution_count": 1,
      "metadata": {
        "id": "ZyshAhMas7kh"
      },
      "outputs": [],
      "source": [
        "import pandas as pd\n",
        "df = pd.read_csv(\"https://raw.githubusercontent.com/purna135/ML-Datasets/main/weight-height.csv\")"
      ]
    },
    {
      "cell_type": "code",
      "source": [
        "df.head()"
      ],
      "metadata": {
        "colab": {
          "base_uri": "https://localhost:8080/",
          "height": 206
        },
        "id": "lazkZVpcnuz1",
        "outputId": "49fb0e93-52fa-4cef-b137-52307e51ac22"
      },
      "execution_count": 2,
      "outputs": [
        {
          "output_type": "execute_result",
          "data": {
            "text/plain": [
              "  Gender     Height      Weight\n",
              "0   Male  73.847017  241.893563\n",
              "1   Male  68.781904  162.310473\n",
              "2   Male  74.110105  212.740856\n",
              "3   Male  71.730978  220.042470\n",
              "4   Male  69.881796  206.349801"
            ],
            "text/html": [
              "\n",
              "  <div id=\"df-b8b193e7-8e34-4408-a992-2d5d009002f7\">\n",
              "    <div class=\"colab-df-container\">\n",
              "      <div>\n",
              "<style scoped>\n",
              "    .dataframe tbody tr th:only-of-type {\n",
              "        vertical-align: middle;\n",
              "    }\n",
              "\n",
              "    .dataframe tbody tr th {\n",
              "        vertical-align: top;\n",
              "    }\n",
              "\n",
              "    .dataframe thead th {\n",
              "        text-align: right;\n",
              "    }\n",
              "</style>\n",
              "<table border=\"1\" class=\"dataframe\">\n",
              "  <thead>\n",
              "    <tr style=\"text-align: right;\">\n",
              "      <th></th>\n",
              "      <th>Gender</th>\n",
              "      <th>Height</th>\n",
              "      <th>Weight</th>\n",
              "    </tr>\n",
              "  </thead>\n",
              "  <tbody>\n",
              "    <tr>\n",
              "      <th>0</th>\n",
              "      <td>Male</td>\n",
              "      <td>73.847017</td>\n",
              "      <td>241.893563</td>\n",
              "    </tr>\n",
              "    <tr>\n",
              "      <th>1</th>\n",
              "      <td>Male</td>\n",
              "      <td>68.781904</td>\n",
              "      <td>162.310473</td>\n",
              "    </tr>\n",
              "    <tr>\n",
              "      <th>2</th>\n",
              "      <td>Male</td>\n",
              "      <td>74.110105</td>\n",
              "      <td>212.740856</td>\n",
              "    </tr>\n",
              "    <tr>\n",
              "      <th>3</th>\n",
              "      <td>Male</td>\n",
              "      <td>71.730978</td>\n",
              "      <td>220.042470</td>\n",
              "    </tr>\n",
              "    <tr>\n",
              "      <th>4</th>\n",
              "      <td>Male</td>\n",
              "      <td>69.881796</td>\n",
              "      <td>206.349801</td>\n",
              "    </tr>\n",
              "  </tbody>\n",
              "</table>\n",
              "</div>\n",
              "      <button class=\"colab-df-convert\" onclick=\"convertToInteractive('df-b8b193e7-8e34-4408-a992-2d5d009002f7')\"\n",
              "              title=\"Convert this dataframe to an interactive table.\"\n",
              "              style=\"display:none;\">\n",
              "        \n",
              "  <svg xmlns=\"http://www.w3.org/2000/svg\" height=\"24px\"viewBox=\"0 0 24 24\"\n",
              "       width=\"24px\">\n",
              "    <path d=\"M0 0h24v24H0V0z\" fill=\"none\"/>\n",
              "    <path d=\"M18.56 5.44l.94 2.06.94-2.06 2.06-.94-2.06-.94-.94-2.06-.94 2.06-2.06.94zm-11 1L8.5 8.5l.94-2.06 2.06-.94-2.06-.94L8.5 2.5l-.94 2.06-2.06.94zm10 10l.94 2.06.94-2.06 2.06-.94-2.06-.94-.94-2.06-.94 2.06-2.06.94z\"/><path d=\"M17.41 7.96l-1.37-1.37c-.4-.4-.92-.59-1.43-.59-.52 0-1.04.2-1.43.59L10.3 9.45l-7.72 7.72c-.78.78-.78 2.05 0 2.83L4 21.41c.39.39.9.59 1.41.59.51 0 1.02-.2 1.41-.59l7.78-7.78 2.81-2.81c.8-.78.8-2.07 0-2.86zM5.41 20L4 18.59l7.72-7.72 1.47 1.35L5.41 20z\"/>\n",
              "  </svg>\n",
              "      </button>\n",
              "      \n",
              "  <style>\n",
              "    .colab-df-container {\n",
              "      display:flex;\n",
              "      flex-wrap:wrap;\n",
              "      gap: 12px;\n",
              "    }\n",
              "\n",
              "    .colab-df-convert {\n",
              "      background-color: #E8F0FE;\n",
              "      border: none;\n",
              "      border-radius: 50%;\n",
              "      cursor: pointer;\n",
              "      display: none;\n",
              "      fill: #1967D2;\n",
              "      height: 32px;\n",
              "      padding: 0 0 0 0;\n",
              "      width: 32px;\n",
              "    }\n",
              "\n",
              "    .colab-df-convert:hover {\n",
              "      background-color: #E2EBFA;\n",
              "      box-shadow: 0px 1px 2px rgba(60, 64, 67, 0.3), 0px 1px 3px 1px rgba(60, 64, 67, 0.15);\n",
              "      fill: #174EA6;\n",
              "    }\n",
              "\n",
              "    [theme=dark] .colab-df-convert {\n",
              "      background-color: #3B4455;\n",
              "      fill: #D2E3FC;\n",
              "    }\n",
              "\n",
              "    [theme=dark] .colab-df-convert:hover {\n",
              "      background-color: #434B5C;\n",
              "      box-shadow: 0px 1px 3px 1px rgba(0, 0, 0, 0.15);\n",
              "      filter: drop-shadow(0px 1px 2px rgba(0, 0, 0, 0.3));\n",
              "      fill: #FFFFFF;\n",
              "    }\n",
              "  </style>\n",
              "\n",
              "      <script>\n",
              "        const buttonEl =\n",
              "          document.querySelector('#df-b8b193e7-8e34-4408-a992-2d5d009002f7 button.colab-df-convert');\n",
              "        buttonEl.style.display =\n",
              "          google.colab.kernel.accessAllowed ? 'block' : 'none';\n",
              "\n",
              "        async function convertToInteractive(key) {\n",
              "          const element = document.querySelector('#df-b8b193e7-8e34-4408-a992-2d5d009002f7');\n",
              "          const dataTable =\n",
              "            await google.colab.kernel.invokeFunction('convertToInteractive',\n",
              "                                                     [key], {});\n",
              "          if (!dataTable) return;\n",
              "\n",
              "          const docLinkHtml = 'Like what you see? Visit the ' +\n",
              "            '<a target=\"_blank\" href=https://colab.research.google.com/notebooks/data_table.ipynb>data table notebook</a>'\n",
              "            + ' to learn more about interactive tables.';\n",
              "          element.innerHTML = '';\n",
              "          dataTable['output_type'] = 'display_data';\n",
              "          await google.colab.output.renderOutput(dataTable, element);\n",
              "          const docLink = document.createElement('div');\n",
              "          docLink.innerHTML = docLinkHtml;\n",
              "          element.appendChild(docLink);\n",
              "        }\n",
              "      </script>\n",
              "    </div>\n",
              "  </div>\n",
              "  "
            ]
          },
          "metadata": {},
          "execution_count": 2
        }
      ]
    },
    {
      "cell_type": "code",
      "source": [
        "df.drop(\"Gender\", inplace=True, axis=1)"
      ],
      "metadata": {
        "id": "1UTyMP5Snxwi"
      },
      "execution_count": 3,
      "outputs": []
    },
    {
      "cell_type": "code",
      "source": [
        "df.head()"
      ],
      "metadata": {
        "colab": {
          "base_uri": "https://localhost:8080/",
          "height": 206
        },
        "id": "QFQ-N2guoDTN",
        "outputId": "68e7391c-ca17-4e11-95df-d5091088405f"
      },
      "execution_count": 4,
      "outputs": [
        {
          "output_type": "execute_result",
          "data": {
            "text/plain": [
              "      Height      Weight\n",
              "0  73.847017  241.893563\n",
              "1  68.781904  162.310473\n",
              "2  74.110105  212.740856\n",
              "3  71.730978  220.042470\n",
              "4  69.881796  206.349801"
            ],
            "text/html": [
              "\n",
              "  <div id=\"df-4a790e2c-4e91-464e-8c98-381cdca1921b\">\n",
              "    <div class=\"colab-df-container\">\n",
              "      <div>\n",
              "<style scoped>\n",
              "    .dataframe tbody tr th:only-of-type {\n",
              "        vertical-align: middle;\n",
              "    }\n",
              "\n",
              "    .dataframe tbody tr th {\n",
              "        vertical-align: top;\n",
              "    }\n",
              "\n",
              "    .dataframe thead th {\n",
              "        text-align: right;\n",
              "    }\n",
              "</style>\n",
              "<table border=\"1\" class=\"dataframe\">\n",
              "  <thead>\n",
              "    <tr style=\"text-align: right;\">\n",
              "      <th></th>\n",
              "      <th>Height</th>\n",
              "      <th>Weight</th>\n",
              "    </tr>\n",
              "  </thead>\n",
              "  <tbody>\n",
              "    <tr>\n",
              "      <th>0</th>\n",
              "      <td>73.847017</td>\n",
              "      <td>241.893563</td>\n",
              "    </tr>\n",
              "    <tr>\n",
              "      <th>1</th>\n",
              "      <td>68.781904</td>\n",
              "      <td>162.310473</td>\n",
              "    </tr>\n",
              "    <tr>\n",
              "      <th>2</th>\n",
              "      <td>74.110105</td>\n",
              "      <td>212.740856</td>\n",
              "    </tr>\n",
              "    <tr>\n",
              "      <th>3</th>\n",
              "      <td>71.730978</td>\n",
              "      <td>220.042470</td>\n",
              "    </tr>\n",
              "    <tr>\n",
              "      <th>4</th>\n",
              "      <td>69.881796</td>\n",
              "      <td>206.349801</td>\n",
              "    </tr>\n",
              "  </tbody>\n",
              "</table>\n",
              "</div>\n",
              "      <button class=\"colab-df-convert\" onclick=\"convertToInteractive('df-4a790e2c-4e91-464e-8c98-381cdca1921b')\"\n",
              "              title=\"Convert this dataframe to an interactive table.\"\n",
              "              style=\"display:none;\">\n",
              "        \n",
              "  <svg xmlns=\"http://www.w3.org/2000/svg\" height=\"24px\"viewBox=\"0 0 24 24\"\n",
              "       width=\"24px\">\n",
              "    <path d=\"M0 0h24v24H0V0z\" fill=\"none\"/>\n",
              "    <path d=\"M18.56 5.44l.94 2.06.94-2.06 2.06-.94-2.06-.94-.94-2.06-.94 2.06-2.06.94zm-11 1L8.5 8.5l.94-2.06 2.06-.94-2.06-.94L8.5 2.5l-.94 2.06-2.06.94zm10 10l.94 2.06.94-2.06 2.06-.94-2.06-.94-.94-2.06-.94 2.06-2.06.94z\"/><path d=\"M17.41 7.96l-1.37-1.37c-.4-.4-.92-.59-1.43-.59-.52 0-1.04.2-1.43.59L10.3 9.45l-7.72 7.72c-.78.78-.78 2.05 0 2.83L4 21.41c.39.39.9.59 1.41.59.51 0 1.02-.2 1.41-.59l7.78-7.78 2.81-2.81c.8-.78.8-2.07 0-2.86zM5.41 20L4 18.59l7.72-7.72 1.47 1.35L5.41 20z\"/>\n",
              "  </svg>\n",
              "      </button>\n",
              "      \n",
              "  <style>\n",
              "    .colab-df-container {\n",
              "      display:flex;\n",
              "      flex-wrap:wrap;\n",
              "      gap: 12px;\n",
              "    }\n",
              "\n",
              "    .colab-df-convert {\n",
              "      background-color: #E8F0FE;\n",
              "      border: none;\n",
              "      border-radius: 50%;\n",
              "      cursor: pointer;\n",
              "      display: none;\n",
              "      fill: #1967D2;\n",
              "      height: 32px;\n",
              "      padding: 0 0 0 0;\n",
              "      width: 32px;\n",
              "    }\n",
              "\n",
              "    .colab-df-convert:hover {\n",
              "      background-color: #E2EBFA;\n",
              "      box-shadow: 0px 1px 2px rgba(60, 64, 67, 0.3), 0px 1px 3px 1px rgba(60, 64, 67, 0.15);\n",
              "      fill: #174EA6;\n",
              "    }\n",
              "\n",
              "    [theme=dark] .colab-df-convert {\n",
              "      background-color: #3B4455;\n",
              "      fill: #D2E3FC;\n",
              "    }\n",
              "\n",
              "    [theme=dark] .colab-df-convert:hover {\n",
              "      background-color: #434B5C;\n",
              "      box-shadow: 0px 1px 3px 1px rgba(0, 0, 0, 0.15);\n",
              "      filter: drop-shadow(0px 1px 2px rgba(0, 0, 0, 0.3));\n",
              "      fill: #FFFFFF;\n",
              "    }\n",
              "  </style>\n",
              "\n",
              "      <script>\n",
              "        const buttonEl =\n",
              "          document.querySelector('#df-4a790e2c-4e91-464e-8c98-381cdca1921b button.colab-df-convert');\n",
              "        buttonEl.style.display =\n",
              "          google.colab.kernel.accessAllowed ? 'block' : 'none';\n",
              "\n",
              "        async function convertToInteractive(key) {\n",
              "          const element = document.querySelector('#df-4a790e2c-4e91-464e-8c98-381cdca1921b');\n",
              "          const dataTable =\n",
              "            await google.colab.kernel.invokeFunction('convertToInteractive',\n",
              "                                                     [key], {});\n",
              "          if (!dataTable) return;\n",
              "\n",
              "          const docLinkHtml = 'Like what you see? Visit the ' +\n",
              "            '<a target=\"_blank\" href=https://colab.research.google.com/notebooks/data_table.ipynb>data table notebook</a>'\n",
              "            + ' to learn more about interactive tables.';\n",
              "          element.innerHTML = '';\n",
              "          dataTable['output_type'] = 'display_data';\n",
              "          await google.colab.output.renderOutput(dataTable, element);\n",
              "          const docLink = document.createElement('div');\n",
              "          docLink.innerHTML = docLinkHtml;\n",
              "          element.appendChild(docLink);\n",
              "        }\n",
              "      </script>\n",
              "    </div>\n",
              "  </div>\n",
              "  "
            ]
          },
          "metadata": {},
          "execution_count": 4
        }
      ]
    },
    {
      "cell_type": "code",
      "source": [
        "import matplotlib.pyplot as plt\n",
        "\n",
        "plt.scatter(df['Height'], df['Weight'])"
      ],
      "metadata": {
        "colab": {
          "base_uri": "https://localhost:8080/",
          "height": 283
        },
        "id": "0BdGq3U6oFKm",
        "outputId": "afff22a7-32d7-45f3-c146-1627212609ef"
      },
      "execution_count": 5,
      "outputs": [
        {
          "output_type": "execute_result",
          "data": {
            "text/plain": [
              "<matplotlib.collections.PathCollection at 0x7f29d6eacf10>"
            ]
          },
          "metadata": {},
          "execution_count": 5
        },
        {
          "output_type": "display_data",
          "data": {
            "text/plain": [
              "<Figure size 432x288 with 1 Axes>"
            ],
            "image/png": "[encoded data removed]"
          },
          "metadata": {
            "needs_background": "light"
          }
        }
      ]
    },
    {
      "cell_type": "code",
      "source": [
        "X = df['Height'][:200]\n",
        "y = df['Weight'][:200]\n",
        "\n",
        "plt.scatter(X, y)"
      ],
      "metadata": {
        "colab": {
          "base_uri": "https://localhost:8080/",
          "height": 283
        },
        "id": "RU2aDrs8oN-R",
        "outputId": "5847d67b-7e4b-4a6f-9fbb-00d86568c65f"
      },
      "execution_count": 6,
      "outputs": [
        {
          "output_type": "execute_result",
          "data": {
            "text/plain": [
              "<matplotlib.collections.PathCollection at 0x7f29d66815d0>"
            ]
          },
          "metadata": {},
          "execution_count": 6
        },
        {
          "output_type": "display_data",
          "data": {
            "text/plain": [
              "<Figure size 432x288 with 1 Axes>"
            ],
            "image/png": "[encoded data removed]"
          },
          "metadata": {
            "needs_background": "light"
          }
        }
      ]
    },
    {
      "cell_type": "code",
      "source": [
        "import numpy as np\n",
        "\n",
        "X = np.array(X).reshape(-1, 1)\n",
        "X"
      ],
      "metadata": {
        "colab": {
          "base_uri": "https://localhost:8080/"
        },
        "id": "YlzOEHFZoi-K",
        "outputId": "334bb76a-530d-450d-e24e-1a670b16e6a7"
      },
      "execution_count": 7,
      "outputs": [
        {
          "output_type": "execute_result",
          "data": {
            "text/plain": [
              "array([[73.84701702],\n",
              "       [68.78190405],\n",
              "       [74.11010539],\n",
              "       [71.7309784 ],\n",
              "       [69.88179586],\n",
              "       [67.25301569],\n",
              "       [68.78508125],\n",
              "       [68.34851551],\n",
              "       [67.01894966],\n",
              "       [63.45649398],\n",
              "       [71.19538228],\n",
              "       [71.64080512],\n",
              "       [64.76632913],\n",
              "       [69.2830701 ],\n",
              "       [69.24373223],\n",
              "       [67.6456197 ],\n",
              "       [72.41831663],\n",
              "       [63.97432572],\n",
              "       [69.6400599 ],\n",
              "       [67.93600485],\n",
              "       [67.91505019],\n",
              "       [69.43943987],\n",
              "       [66.14913196],\n",
              "       [75.20597361],\n",
              "       [67.89319634],\n",
              "       [68.1440328 ],\n",
              "       [69.08963143],\n",
              "       [72.80084352],\n",
              "       [67.42124228],\n",
              "       [68.49641536],\n",
              "       [68.61811055],\n",
              "       [74.03380762],\n",
              "       [71.52821604],\n",
              "       [69.1801611 ],\n",
              "       [69.57720237],\n",
              "       [70.40092889],\n",
              "       [69.07617117],\n",
              "       [67.19352328],\n",
              "       [65.80731565],\n",
              "       [64.30418789],\n",
              "       [67.97433623],\n",
              "       [72.18942596],\n",
              "       [65.27034552],\n",
              "       [66.09017738],\n",
              "       [67.51032152],\n",
              "       [70.10478626],\n",
              "       [68.25183644],\n",
              "       [72.17270912],\n",
              "       [69.17985762],\n",
              "       [72.87036015],\n",
              "       [64.78258298],\n",
              "       [70.18354989],\n",
              "       [68.49145025],\n",
              "       [67.33083088],\n",
              "       [66.99094408],\n",
              "       [66.4995499 ],\n",
              "       [68.35305665],\n",
              "       [70.77445907],\n",
              "       [71.21592367],\n",
              "       [70.01336535],\n",
              "       [71.40318222],\n",
              "       [69.55200509],\n",
              "       [73.81853456],\n",
              "       [66.99688275],\n",
              "       [71.41846589],\n",
              "       [65.27930021],\n",
              "       [68.27419147],\n",
              "       [72.76536995],\n",
              "       [68.0993798 ],\n",
              "       [68.89670607],\n",
              "       [69.28950996],\n",
              "       [70.52322452],\n",
              "       [69.66372523],\n",
              "       [67.59526881],\n",
              "       [72.50812038],\n",
              "       [71.2529856 ],\n",
              "       [71.80918689],\n",
              "       [72.24516548],\n",
              "       [66.51262766],\n",
              "       [66.029034  ],\n",
              "       [67.57715394],\n",
              "       [68.2465686 ],\n",
              "       [73.826127  ],\n",
              "       [69.80246436],\n",
              "       [65.95957778],\n",
              "       [71.07901758],\n",
              "       [66.59619654],\n",
              "       [68.95153509],\n",
              "       [68.24446179],\n",
              "       [72.31682512],\n",
              "       [71.81542045],\n",
              "       [65.23704952],\n",
              "       [70.64053009],\n",
              "       [64.7319256 ],\n",
              "       [67.10355118],\n",
              "       [65.11748489],\n",
              "       [71.70123402],\n",
              "       [66.83287821],\n",
              "       [66.47127526],\n",
              "       [69.41152622],\n",
              "       [70.05217747],\n",
              "       [66.74360465],\n",
              "       [66.27432912],\n",
              "       [68.32844799],\n",
              "       [70.0758882 ],\n",
              "       [68.73298815],\n",
              "       [67.55605126],\n",
              "       [66.25363253],\n",
              "       [69.18220268],\n",
              "       [67.60910494],\n",
              "       [69.29273802],\n",
              "       [68.19068401],\n",
              "       [71.6070858 ],\n",
              "       [69.19685751],\n",
              "       [67.26196098],\n",
              "       [73.6851934 ],\n",
              "       [69.53721501],\n",
              "       [68.31155984],\n",
              "       [67.73896347],\n",
              "       [71.7057626 ],\n",
              "       [63.6322646 ],\n",
              "       [68.72119846],\n",
              "       [66.94934165],\n",
              "       [62.70698974],\n",
              "       [72.25840892],\n",
              "       [70.90865306],\n",
              "       [67.6098436 ],\n",
              "       [70.80155896],\n",
              "       [69.30476905],\n",
              "       [66.24289834],\n",
              "       [67.49219298],\n",
              "       [65.80624829],\n",
              "       [71.44370566],\n",
              "       [68.46440582],\n",
              "       [63.9879246 ],\n",
              "       [71.00189769],\n",
              "       [68.13972419],\n",
              "       [68.39540025],\n",
              "       [68.09621975],\n",
              "       [68.14059036],\n",
              "       [68.86009031],\n",
              "       [66.14885254],\n",
              "       [66.20603205],\n",
              "       [67.43212021],\n",
              "       [69.47110603],\n",
              "       [70.51585969],\n",
              "       [71.33837604],\n",
              "       [71.00194477],\n",
              "       [66.20234771],\n",
              "       [72.54330705],\n",
              "       [67.47935176],\n",
              "       [65.35041056],\n",
              "       [70.84406242],\n",
              "       [69.93847526],\n",
              "       [64.73981548],\n",
              "       [69.30840288],\n",
              "       [68.83846286],\n",
              "       [61.93732327],\n",
              "       [68.59333554],\n",
              "       [65.21857558],\n",
              "       [64.33364811],\n",
              "       [68.7489067 ],\n",
              "       [72.4896554 ],\n",
              "       [67.23393092],\n",
              "       [67.26360484],\n",
              "       [65.11850428],\n",
              "       [66.26282004],\n",
              "       [67.70167966],\n",
              "       [65.53069597],\n",
              "       [69.86896981],\n",
              "       [68.48187536],\n",
              "       [72.21396335],\n",
              "       [68.17953269],\n",
              "       [71.98120654],\n",
              "       [66.06513673],\n",
              "       [66.65616417],\n",
              "       [67.5994242 ],\n",
              "       [68.24594409],\n",
              "       [64.80862144],\n",
              "       [67.49221827],\n",
              "       [68.18073071],\n",
              "       [69.5533849 ],\n",
              "       [66.40224967],\n",
              "       [66.59215711],\n",
              "       [71.93588658],\n",
              "       [68.28704173],\n",
              "       [69.9554512 ],\n",
              "       [71.85112915],\n",
              "       [65.75549864],\n",
              "       [67.03185208],\n",
              "       [76.70983486],\n",
              "       [72.57112137],\n",
              "       [69.7288049 ],\n",
              "       [72.799224  ],\n",
              "       [72.53935407],\n",
              "       [72.29474338],\n",
              "       [67.25332482],\n",
              "       [75.94446038],\n",
              "       [66.31623192],\n",
              "       [71.15605349]])"
            ]
          },
          "metadata": {},
          "execution_count": 7
        }
      ]
    },
    {
      "cell_type": "code",
      "source": [
        "from sklearn.model_selection import train_test_split\n",
        "\n",
        "X_train, X_test, y_train, y_test = train_test_split(X, y, test_size=30)"
      ],
      "metadata": {
        "id": "Pfoau7ufowW1"
      },
      "execution_count": 8,
      "outputs": []
    },
    {
      "cell_type": "code",
      "source": [
        "from sklearn.linear_model import LinearRegression\n",
        "\n",
        "lr = LinearRegression()\n",
        "lr.fit(X_train, y_train)"
      ],
      "metadata": {
        "colab": {
          "base_uri": "https://localhost:8080/"
        },
        "id": "YJvCzNo5pDLR",
        "outputId": "4694ba56-f15e-455e-8748-514ac74f0327"
      },
      "execution_count": 10,
      "outputs": [
        {
          "output_type": "execute_result",
          "data": {
            "text/plain": [
              "LinearRegression()"
            ]
          },
          "metadata": {},
          "execution_count": 10
        }
      ]
    },
    {
      "cell_type": "code",
      "source": [
        "y_pred = lr.predict(X_train)"
      ],
      "metadata": {
        "id": "UCKpC1AjpRkr"
      },
      "execution_count": 11,
      "outputs": []
    },
    {
      "cell_type": "code",
      "source": [
        "plt.scatter(X, y)\n",
        "plt.plot(X_train.reshape(-1), y_pred, \"r--\")"
      ],
      "metadata": {
        "colab": {
          "base_uri": "https://localhost:8080/",
          "height": 283
        },
        "id": "fsL1yk1bpclu",
        "outputId": "a24e0b3d-bb1e-40cc-fcad-620dd8566875"
      },
      "execution_count": 12,
      "outputs": [
        {
          "output_type": "execute_result",
          "data": {
            "text/plain": [
              "[<matplotlib.lines.Line2D at 0x7f29c7628e50>]"
            ]
          },
          "metadata": {},
          "execution_count": 12
        },
        {
          "output_type": "display_data",
          "data": {
            "text/plain": [
              "<Figure size 432x288 with 1 Axes>"
            ],
            "image/png": "[encoded data removed]"
          },
          "metadata": {
            "needs_background": "light"
          }
        }
      ]
    },
    {
      "cell_type": "code",
      "source": [
        "lr.coef_"
      ],
      "metadata": {
        "colab": {
          "base_uri": "https://localhost:8080/"
        },
        "id": "5cU_J2XRpm31",
        "outputId": "b6c2d4db-21c0-4109-e27e-671a56605a2f"
      },
      "execution_count": 13,
      "outputs": [
        {
          "output_type": "execute_result",
          "data": {
            "text/plain": [
              "array([5.92799288])"
            ]
          },
          "metadata": {},
          "execution_count": 13
        }
      ]
    },
    {
      "cell_type": "code",
      "source": [
        "lr.intercept_"
      ],
      "metadata": {
        "colab": {
          "base_uri": "https://localhost:8080/"
        },
        "id": "4wzTHjAQpsKA",
        "outputId": "76451d9d-9704-4a08-aa7b-3a7fb21350ce"
      },
      "execution_count": 14,
      "outputs": [
        {
          "output_type": "execute_result",
          "data": {
            "text/plain": [
              "-222.31013136800232"
            ]
          },
          "metadata": {},
          "execution_count": 14
        }
      ]
    },
    {
      "cell_type": "code",
      "source": [
        "x = [[73]]\n",
        "lr.predict(x)"
      ],
      "metadata": {
        "colab": {
          "base_uri": "https://localhost:8080/"
        },
        "id": "1EXRkUbFqDvk",
        "outputId": "9572a2fb-9e8a-46a0-9132-4353b9afe9e3"
      },
      "execution_count": 15,
      "outputs": [
        {
          "output_type": "execute_result",
          "data": {
            "text/plain": [
              "array([210.43334903])"
            ]
          },
          "metadata": {},
          "execution_count": 15
        }
      ]
    },
    {
      "cell_type": "code",
      "source": [
        "# m slope of line\n",
        "# c = intercept\n",
        "\n",
        "# Equation -> y = m * x + c\n",
        "\n",
        "m = lr.coef_\n",
        "c = lr.intercept_\n",
        "\n",
        "y_pred = m * x + c"
      ],
      "metadata": {
        "id": "0DFwvqTUqO9S"
      },
      "execution_count": 16,
      "outputs": []
    },
    {
      "cell_type": "code",
      "source": [
        "y_pred"
      ],
      "metadata": {
        "colab": {
          "base_uri": "https://localhost:8080/"
        },
        "id": "ZfFuSVMaq0EB",
        "outputId": "624dee0f-8b16-4746-c61b-5cfec37cd412"
      },
      "execution_count": 17,
      "outputs": [
        {
          "output_type": "execute_result",
          "data": {
            "text/plain": [
              "array([[210.43334903]])"
            ]
          },
          "metadata": {},
          "execution_count": 17
        }
      ]
    },
    {
      "cell_type": "code",
      "source": [
        "X.shape[0]"
      ],
      "metadata": {
        "colab": {
          "base_uri": "https://localhost:8080/"
        },
        "id": "qmENPEvRq2lx",
        "outputId": "8aa27c18-1fcd-497f-e970-c4ec2adcdb75"
      },
      "execution_count": 18,
      "outputs": [
        {
          "output_type": "execute_result",
          "data": {
            "text/plain": [
              "200"
            ]
          },
          "metadata": {},
          "execution_count": 18
        }
      ]
    },
    {
      "cell_type": "code",
      "source": [
        ""
      ],
      "metadata": {
        "id": "-6pseEwcq7PR"
      },
      "execution_count": null,
      "outputs": []
    }
  ]
}