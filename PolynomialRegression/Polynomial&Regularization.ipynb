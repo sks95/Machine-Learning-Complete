{
  "nbformat": 4,
  "nbformat_minor": 0,
  "metadata": {
    "colab": {
      "name": "Polynomial&Regularization.ipynb",
      "provenance": [],
      "collapsed_sections": [],
      "authorship_tag": "ABX9TyOgQuZoiRb5egWZb7bfV0+8",
      "include_colab_link": true
    },
    "kernelspec": {
      "name": "python3",
      "display_name": "Python 3"
    },
    "language_info": {
      "name": "python"
    }
  },
  "cells": [
    {
      "cell_type": "markdown",
      "metadata": {
        "id": "view-in-github",
        "colab_type": "text"
      },
      "source": [
        "<a href=\"https://colab.research.google.com/github/sks95/Machine-Learning-Complete/blob/main/PolynomialRegression/Polynomial%26Regularization.ipynb\" target=\"_parent\"><img src=\"https://colab.research.google.com/assets/colab-badge.svg\" alt=\"Open In Colab\"/></a>"
      ]
    },
    {
      "cell_type": "markdown",
      "source": [
        "# Polynomial Regression"
      ],
      "metadata": {
        "id": "qKa4oMZi5vr4"
      }
    },
    {
      "cell_type": "code",
      "execution_count": 1,
      "metadata": {
        "id": "wf9Q3a9U5bRa"
      },
      "outputs": [],
      "source": [
        "import numpy as np\n",
        "import pandas as pd\n",
        "import matplotlib.pyplot as plt\n",
        "np.random.seed(42)"
      ]
    },
    {
      "cell_type": "code",
      "source": [
        "# create raw dataset\n",
        "x = np.linspace(-3, 3, 100).reshape(100, 1)\n",
        "y = 0.5*x**2 + x + 2 + np.random.randn(100, 1)"
      ],
      "metadata": {
        "id": "MwrnJgt459_J"
      },
      "execution_count": 2,
      "outputs": []
    },
    {
      "cell_type": "code",
      "source": [
        "plt.scatter(x, y)\n",
        "plt.show()"
      ],
      "metadata": {
        "colab": {
          "base_uri": "https://localhost:8080/",
          "height": 265
        },
        "id": "yr4822Dg6Wug",
        "outputId": "f7df9ebf-61fe-42e5-b81a-25f1dac4b7d1"
      },
      "execution_count": 3,
      "outputs": [
        {
          "output_type": "display_data",
          "data": {
            "text/plain": [
              "<Figure size 432x288 with 1 Axes>"
            ],
            "image/png": "[encoded data removed]"
          },
          "metadata": {
            "needs_background": "light"
          }
        }
      ]
    },
    {
      "cell_type": "code",
      "source": [
        "from sklearn.linear_model import LinearRegression\n",
        "lr = LinearRegression()\n",
        "lr.fit(x, y)\n",
        "y_pred = lr.predict(x)"
      ],
      "metadata": {
        "id": "DGLN5fJ06b7X"
      },
      "execution_count": 4,
      "outputs": []
    },
    {
      "cell_type": "code",
      "source": [
        "# plot linear regression line \n",
        "plt.scatter(x, y)\n",
        "plt.plot(x, y_pred, 'r-', label='LinearReg')\n",
        "plt.legend()\n",
        "plt.show()"
      ],
      "metadata": {
        "colab": {
          "base_uri": "https://localhost:8080/",
          "height": 265
        },
        "id": "OR1byRDO62KP",
        "outputId": "79cf0101-2076-4017-fa56-5e73511a5340"
      },
      "execution_count": 6,
      "outputs": [
        {
          "output_type": "display_data",
          "data": {
            "text/plain": [
              "<Figure size 432x288 with 1 Axes>"
            ],
            "image/png": "[encoded data removed]"
          },
          "metadata": {
            "needs_background": "light"
          }
        }
      ]
    },
    {
      "cell_type": "code",
      "source": [
        "print('intercept: {}, coefficient: {}'.format(lr.intercept_, lr.coef_))"
      ],
      "metadata": {
        "colab": {
          "base_uri": "https://localhost:8080/"
        },
        "id": "sb416LeH7OjX",
        "outputId": "4c437a04-21bc-4eef-df78-63bcf3d350d6"
      },
      "execution_count": 8,
      "outputs": [
        {
          "output_type": "stream",
          "name": "stdout",
          "text": [
            "intercept: [3.42645651], coefficient: [[1.02298878]]\n"
          ]
        }
      ]
    },
    {
      "cell_type": "code",
      "source": [
        "# import polynomial features\n"
      ],
      "metadata": {
        "id": "TrKQD31F7kok"
      },
      "execution_count": null,
      "outputs": []
    }
  ]
}